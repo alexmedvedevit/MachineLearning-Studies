{
 "cells": [
  {
   "cell_type": "code",
   "execution_count": 2,
   "id": "03f93f11",
   "metadata": {},
   "outputs": [],
   "source": [
    "import numpy as np\n",
    "import pandas as pd\n",
    "import seaborn as sns\n",
    "import matplotlib.pyplot as plt\n",
    "import os\n",
    "plt.style.use('ggplot')\n"
   ]
  },
  {
   "cell_type": "code",
   "execution_count": 5,
   "id": "25bd7708",
   "metadata": {},
   "outputs": [],
   "source": [
    "data = pd.read_csv('data_182.csv')"
   ]
  },
  {
   "cell_type": "code",
   "execution_count": 6,
   "id": "b5d51a79",
   "metadata": {
    "scrolled": false
   },
   "outputs": [
    {
     "data": {
      "text/html": [
       "<div>\n",
       "<style scoped>\n",
       "    .dataframe tbody tr th:only-of-type {\n",
       "        vertical-align: middle;\n",
       "    }\n",
       "\n",
       "    .dataframe tbody tr th {\n",
       "        vertical-align: top;\n",
       "    }\n",
       "\n",
       "    .dataframe thead th {\n",
       "        text-align: right;\n",
       "    }\n",
       "</style>\n",
       "<table border=\"1\" class=\"dataframe\">\n",
       "  <thead>\n",
       "    <tr style=\"text-align: right;\">\n",
       "      <th></th>\n",
       "      <th>date</th>\n",
       "      <th>currency</th>\n",
       "      <th>digital_code</th>\n",
       "      <th>letter_code</th>\n",
       "      <th>rate</th>\n",
       "    </tr>\n",
       "  </thead>\n",
       "  <tbody>\n",
       "    <tr>\n",
       "      <th>0</th>\n",
       "      <td>1924-01-01</td>\n",
       "      <td>Доллар США</td>\n",
       "      <td>840.0</td>\n",
       "      <td>USD</td>\n",
       "      <td>2.200000</td>\n",
       "    </tr>\n",
       "    <tr>\n",
       "      <th>1</th>\n",
       "      <td>1924-01-01</td>\n",
       "      <td>Фунт стерлингов Соединенного королевства</td>\n",
       "      <td>826.0</td>\n",
       "      <td>GBP</td>\n",
       "      <td>9.400000</td>\n",
       "    </tr>\n",
       "    <tr>\n",
       "      <th>2</th>\n",
       "      <td>1924-01-01</td>\n",
       "      <td>Шведская крона</td>\n",
       "      <td>752.0</td>\n",
       "      <td>SEK</td>\n",
       "      <td>0.550000</td>\n",
       "    </tr>\n",
       "    <tr>\n",
       "      <th>3</th>\n",
       "      <td>1924-02-01</td>\n",
       "      <td>Доллар США</td>\n",
       "      <td>840.0</td>\n",
       "      <td>USD</td>\n",
       "      <td>2.170000</td>\n",
       "    </tr>\n",
       "    <tr>\n",
       "      <th>4</th>\n",
       "      <td>1924-02-01</td>\n",
       "      <td>Фунт стерлингов Соединенного королевства</td>\n",
       "      <td>826.0</td>\n",
       "      <td>GBP</td>\n",
       "      <td>9.240000</td>\n",
       "    </tr>\n",
       "    <tr>\n",
       "      <th>...</th>\n",
       "      <td>...</td>\n",
       "      <td>...</td>\n",
       "      <td>...</td>\n",
       "      <td>...</td>\n",
       "      <td>...</td>\n",
       "    </tr>\n",
       "    <tr>\n",
       "      <th>321513</th>\n",
       "      <td>2021-11-01</td>\n",
       "      <td>Чешская крона</td>\n",
       "      <td>203.0</td>\n",
       "      <td>CZK</td>\n",
       "      <td>3.205160</td>\n",
       "    </tr>\n",
       "    <tr>\n",
       "      <th>321514</th>\n",
       "      <td>2021-11-01</td>\n",
       "      <td>Шведская крона</td>\n",
       "      <td>752.0</td>\n",
       "      <td>SEK</td>\n",
       "      <td>8.275440</td>\n",
       "    </tr>\n",
       "    <tr>\n",
       "      <th>321515</th>\n",
       "      <td>2021-11-01</td>\n",
       "      <td>Швейцарский франк</td>\n",
       "      <td>756.0</td>\n",
       "      <td>CHF</td>\n",
       "      <td>77.341500</td>\n",
       "    </tr>\n",
       "    <tr>\n",
       "      <th>321516</th>\n",
       "      <td>2021-11-01</td>\n",
       "      <td>Южноафриканский рэнд</td>\n",
       "      <td>710.0</td>\n",
       "      <td>ZAR</td>\n",
       "      <td>4.617300</td>\n",
       "    </tr>\n",
       "    <tr>\n",
       "      <th>321517</th>\n",
       "      <td>2021-11-01</td>\n",
       "      <td>Японская иена</td>\n",
       "      <td>392.0</td>\n",
       "      <td>JPY</td>\n",
       "      <td>0.620283</td>\n",
       "    </tr>\n",
       "  </tbody>\n",
       "</table>\n",
       "<p>321518 rows × 5 columns</p>\n",
       "</div>"
      ],
      "text/plain": [
       "              date                                  currency  digital_code  \\\n",
       "0       1924-01-01                                Доллар США         840.0   \n",
       "1       1924-01-01  Фунт стерлингов Соединенного королевства         826.0   \n",
       "2       1924-01-01                            Шведская крона         752.0   \n",
       "3       1924-02-01                                Доллар США         840.0   \n",
       "4       1924-02-01  Фунт стерлингов Соединенного королевства         826.0   \n",
       "...            ...                                       ...           ...   \n",
       "321513  2021-11-01                             Чешская крона         203.0   \n",
       "321514  2021-11-01                            Шведская крона         752.0   \n",
       "321515  2021-11-01                         Швейцарский франк         756.0   \n",
       "321516  2021-11-01                      Южноафриканский рэнд         710.0   \n",
       "321517  2021-11-01                             Японская иена         392.0   \n",
       "\n",
       "       letter_code       rate  \n",
       "0              USD   2.200000  \n",
       "1              GBP   9.400000  \n",
       "2              SEK   0.550000  \n",
       "3              USD   2.170000  \n",
       "4              GBP   9.240000  \n",
       "...            ...        ...  \n",
       "321513         CZK   3.205160  \n",
       "321514         SEK   8.275440  \n",
       "321515         CHF  77.341500  \n",
       "321516         ZAR   4.617300  \n",
       "321517         JPY   0.620283  \n",
       "\n",
       "[321518 rows x 5 columns]"
      ]
     },
     "execution_count": 6,
     "metadata": {},
     "output_type": "execute_result"
    }
   ],
   "source": [
    "data"
   ]
  },
  {
   "cell_type": "code",
   "execution_count": 20,
   "id": "4a9ef6a2",
   "metadata": {},
   "outputs": [
    {
     "data": {
      "text/html": [
       "<div>\n",
       "<style scoped>\n",
       "    .dataframe tbody tr th:only-of-type {\n",
       "        vertical-align: middle;\n",
       "    }\n",
       "\n",
       "    .dataframe tbody tr th {\n",
       "        vertical-align: top;\n",
       "    }\n",
       "\n",
       "    .dataframe thead th {\n",
       "        text-align: right;\n",
       "    }\n",
       "</style>\n",
       "<table border=\"1\" class=\"dataframe\">\n",
       "  <thead>\n",
       "    <tr style=\"text-align: right;\">\n",
       "      <th></th>\n",
       "      <th>date</th>\n",
       "      <th>currency</th>\n",
       "      <th>digital_code</th>\n",
       "      <th>letter_code</th>\n",
       "      <th>rate</th>\n",
       "    </tr>\n",
       "  </thead>\n",
       "  <tbody>\n",
       "    <tr>\n",
       "      <th>622</th>\n",
       "      <td>1930-10-01</td>\n",
       "      <td>Японская иена</td>\n",
       "      <td>392.0</td>\n",
       "      <td>JPY</td>\n",
       "      <td>0.964100</td>\n",
       "    </tr>\n",
       "    <tr>\n",
       "      <th>638</th>\n",
       "      <td>1930-11-01</td>\n",
       "      <td>Японская иена</td>\n",
       "      <td>392.0</td>\n",
       "      <td>JPY</td>\n",
       "      <td>0.966200</td>\n",
       "    </tr>\n",
       "    <tr>\n",
       "      <th>654</th>\n",
       "      <td>1930-12-01</td>\n",
       "      <td>Японская иена</td>\n",
       "      <td>392.0</td>\n",
       "      <td>JPY</td>\n",
       "      <td>0.964400</td>\n",
       "    </tr>\n",
       "    <tr>\n",
       "      <th>670</th>\n",
       "      <td>1931-01-01</td>\n",
       "      <td>Японская иена</td>\n",
       "      <td>392.0</td>\n",
       "      <td>JPY</td>\n",
       "      <td>0.965600</td>\n",
       "    </tr>\n",
       "    <tr>\n",
       "      <th>686</th>\n",
       "      <td>1931-02-03</td>\n",
       "      <td>Японская иена</td>\n",
       "      <td>392.0</td>\n",
       "      <td>JPY</td>\n",
       "      <td>0.963400</td>\n",
       "    </tr>\n",
       "    <tr>\n",
       "      <th>...</th>\n",
       "      <td>...</td>\n",
       "      <td>...</td>\n",
       "      <td>...</td>\n",
       "      <td>...</td>\n",
       "      <td>...</td>\n",
       "    </tr>\n",
       "    <tr>\n",
       "      <th>321381</th>\n",
       "      <td>2021-10-28</td>\n",
       "      <td>Японская иена</td>\n",
       "      <td>392.0</td>\n",
       "      <td>JPY</td>\n",
       "      <td>0.613745</td>\n",
       "    </tr>\n",
       "    <tr>\n",
       "      <th>321415</th>\n",
       "      <td>2021-10-29</td>\n",
       "      <td>Японская иена</td>\n",
       "      <td>392.0</td>\n",
       "      <td>JPY</td>\n",
       "      <td>0.620808</td>\n",
       "    </tr>\n",
       "    <tr>\n",
       "      <th>321449</th>\n",
       "      <td>2021-10-30</td>\n",
       "      <td>Японская иена</td>\n",
       "      <td>392.0</td>\n",
       "      <td>JPY</td>\n",
       "      <td>0.620283</td>\n",
       "    </tr>\n",
       "    <tr>\n",
       "      <th>321483</th>\n",
       "      <td>2021-10-31</td>\n",
       "      <td>Японская иена</td>\n",
       "      <td>392.0</td>\n",
       "      <td>JPY</td>\n",
       "      <td>0.620283</td>\n",
       "    </tr>\n",
       "    <tr>\n",
       "      <th>321517</th>\n",
       "      <td>2021-11-01</td>\n",
       "      <td>Японская иена</td>\n",
       "      <td>392.0</td>\n",
       "      <td>JPY</td>\n",
       "      <td>0.620283</td>\n",
       "    </tr>\n",
       "  </tbody>\n",
       "</table>\n",
       "<p>11635 rows × 5 columns</p>\n",
       "</div>"
      ],
      "text/plain": [
       "              date       currency  digital_code letter_code      rate\n",
       "622     1930-10-01  Японская иена         392.0         JPY  0.964100\n",
       "638     1930-11-01  Японская иена         392.0         JPY  0.966200\n",
       "654     1930-12-01  Японская иена         392.0         JPY  0.964400\n",
       "670     1931-01-01  Японская иена         392.0         JPY  0.965600\n",
       "686     1931-02-03  Японская иена         392.0         JPY  0.963400\n",
       "...            ...            ...           ...         ...       ...\n",
       "321381  2021-10-28  Японская иена         392.0         JPY  0.613745\n",
       "321415  2021-10-29  Японская иена         392.0         JPY  0.620808\n",
       "321449  2021-10-30  Японская иена         392.0         JPY  0.620283\n",
       "321483  2021-10-31  Японская иена         392.0         JPY  0.620283\n",
       "321517  2021-11-01  Японская иена         392.0         JPY  0.620283\n",
       "\n",
       "[11635 rows x 5 columns]"
      ]
     },
     "execution_count": 20,
     "metadata": {},
     "output_type": "execute_result"
    }
   ],
   "source": [
    "data[data['letter_code'] == \"JPY\"]"
   ]
  },
  {
   "cell_type": "markdown",
   "id": "377800e3",
   "metadata": {},
   "source": [
    "## Общая информация о данных"
   ]
  },
  {
   "cell_type": "code",
   "execution_count": 21,
   "id": "0f575a95",
   "metadata": {},
   "outputs": [
    {
     "data": {
      "text/plain": [
       "(321518, 5)"
      ]
     },
     "execution_count": 21,
     "metadata": {},
     "output_type": "execute_result"
    }
   ],
   "source": [
    "data.shape"
   ]
  },
  {
   "cell_type": "code",
   "execution_count": 22,
   "id": "dcc31303",
   "metadata": {
    "scrolled": false
   },
   "outputs": [
    {
     "name": "stdout",
     "output_type": "stream",
     "text": [
      "<class 'pandas.core.frame.DataFrame'>\n",
      "RangeIndex: 321518 entries, 0 to 321517\n",
      "Data columns (total 5 columns):\n",
      " #   Column        Non-Null Count   Dtype  \n",
      "---  ------        --------------   -----  \n",
      " 0   date          321518 non-null  object \n",
      " 1   currency      321518 non-null  object \n",
      " 2   digital_code  315083 non-null  float64\n",
      " 3   letter_code   315083 non-null  object \n",
      " 4   rate          321518 non-null  float64\n",
      "dtypes: float64(2), object(3)\n",
      "memory usage: 12.3+ MB\n"
     ]
    }
   ],
   "source": [
    "data.info()"
   ]
  },
  {
   "cell_type": "code",
   "execution_count": 23,
   "id": "42f3ae90",
   "metadata": {},
   "outputs": [
    {
     "data": {
      "text/html": [
       "<div>\n",
       "<style scoped>\n",
       "    .dataframe tbody tr th:only-of-type {\n",
       "        vertical-align: middle;\n",
       "    }\n",
       "\n",
       "    .dataframe tbody tr th {\n",
       "        vertical-align: top;\n",
       "    }\n",
       "\n",
       "    .dataframe thead th {\n",
       "        text-align: right;\n",
       "    }\n",
       "</style>\n",
       "<table border=\"1\" class=\"dataframe\">\n",
       "  <thead>\n",
       "    <tr style=\"text-align: right;\">\n",
       "      <th></th>\n",
       "      <th>count</th>\n",
       "      <th>unique</th>\n",
       "      <th>top</th>\n",
       "      <th>freq</th>\n",
       "      <th>mean</th>\n",
       "      <th>std</th>\n",
       "      <th>min</th>\n",
       "      <th>25%</th>\n",
       "      <th>50%</th>\n",
       "      <th>75%</th>\n",
       "      <th>max</th>\n",
       "    </tr>\n",
       "  </thead>\n",
       "  <tbody>\n",
       "    <tr>\n",
       "      <th>date</th>\n",
       "      <td>321518</td>\n",
       "      <td>12040</td>\n",
       "      <td>1999-07-01</td>\n",
       "      <td>53</td>\n",
       "      <td>NaN</td>\n",
       "      <td>NaN</td>\n",
       "      <td>NaN</td>\n",
       "      <td>NaN</td>\n",
       "      <td>NaN</td>\n",
       "      <td>NaN</td>\n",
       "      <td>NaN</td>\n",
       "    </tr>\n",
       "    <tr>\n",
       "      <th>currency</th>\n",
       "      <td>321518</td>\n",
       "      <td>68</td>\n",
       "      <td>Доллар США</td>\n",
       "      <td>11820</td>\n",
       "      <td>NaN</td>\n",
       "      <td>NaN</td>\n",
       "      <td>NaN</td>\n",
       "      <td>NaN</td>\n",
       "      <td>NaN</td>\n",
       "      <td>NaN</td>\n",
       "      <td>NaN</td>\n",
       "    </tr>\n",
       "    <tr>\n",
       "      <th>digital_code</th>\n",
       "      <td>315083.0</td>\n",
       "      <td>NaN</td>\n",
       "      <td>NaN</td>\n",
       "      <td>NaN</td>\n",
       "      <td>576.27289</td>\n",
       "      <td>317.099028</td>\n",
       "      <td>31.0</td>\n",
       "      <td>348.0</td>\n",
       "      <td>578.0</td>\n",
       "      <td>860.0</td>\n",
       "      <td>986.0</td>\n",
       "    </tr>\n",
       "    <tr>\n",
       "      <th>letter_code</th>\n",
       "      <td>315083</td>\n",
       "      <td>57</td>\n",
       "      <td>USD</td>\n",
       "      <td>11820</td>\n",
       "      <td>NaN</td>\n",
       "      <td>NaN</td>\n",
       "      <td>NaN</td>\n",
       "      <td>NaN</td>\n",
       "      <td>NaN</td>\n",
       "      <td>NaN</td>\n",
       "      <td>NaN</td>\n",
       "    </tr>\n",
       "    <tr>\n",
       "      <th>rate</th>\n",
       "      <td>321518.0</td>\n",
       "      <td>NaN</td>\n",
       "      <td>NaN</td>\n",
       "      <td>NaN</td>\n",
       "      <td>260.499182</td>\n",
       "      <td>1045.475004</td>\n",
       "      <td>0.000005</td>\n",
       "      <td>0.753352</td>\n",
       "      <td>9.556365</td>\n",
       "      <td>38.9567</td>\n",
       "      <td>10154.55</td>\n",
       "    </tr>\n",
       "  </tbody>\n",
       "</table>\n",
       "</div>"
      ],
      "text/plain": [
       "                 count unique         top   freq        mean          std  \\\n",
       "date            321518  12040  1999-07-01     53         NaN          NaN   \n",
       "currency        321518     68  Доллар США  11820         NaN          NaN   \n",
       "digital_code  315083.0    NaN         NaN    NaN   576.27289   317.099028   \n",
       "letter_code     315083     57         USD  11820         NaN          NaN   \n",
       "rate          321518.0    NaN         NaN    NaN  260.499182  1045.475004   \n",
       "\n",
       "                   min       25%       50%      75%       max  \n",
       "date               NaN       NaN       NaN      NaN       NaN  \n",
       "currency           NaN       NaN       NaN      NaN       NaN  \n",
       "digital_code      31.0     348.0     578.0    860.0     986.0  \n",
       "letter_code        NaN       NaN       NaN      NaN       NaN  \n",
       "rate          0.000005  0.753352  9.556365  38.9567  10154.55  "
      ]
     },
     "execution_count": 23,
     "metadata": {},
     "output_type": "execute_result"
    }
   ],
   "source": [
    "data.describe(include='all').T"
   ]
  },
  {
   "cell_type": "code",
   "execution_count": 17,
   "id": "ad364bf1",
   "metadata": {
    "scrolled": true
   },
   "outputs": [
    {
     "data": {
      "text/plain": [
       "count    11820.000000\n",
       "mean       580.719688\n",
       "std       1493.847317\n",
       "min          0.545000\n",
       "25%         27.669950\n",
       "50%         31.132500\n",
       "75%         65.803525\n",
       "max       5960.000000\n",
       "Name: rate, dtype: float64"
      ]
     },
     "execution_count": 17,
     "metadata": {},
     "output_type": "execute_result"
    }
   ],
   "source": [
    "data[data['letter_code'] == \"USD\"]['rate'].describe()"
   ]
  },
  {
   "cell_type": "markdown",
   "id": "43ae66ce",
   "metadata": {},
   "source": [
    "## Анализ количественной информации\n",
    "\n",
    "Для отображения зависимостей используется курс по отношению к фунту стерлингу Соединённого Королевства"
   ]
  },
  {
   "cell_type": "code",
   "execution_count": 59,
   "id": "c6a38220",
   "metadata": {},
   "outputs": [
    {
     "data": {
      "text/plain": [
       "<AxesSubplot: >"
      ]
     },
     "execution_count": 59,
     "metadata": {},
     "output_type": "execute_result"
    },
    {
     "data": {
      "image/png": "[encoded data removed]",
      "text/plain": [
       "<Figure size 640x480 with 1 Axes>"
      ]
     },
     "metadata": {},
     "output_type": "display_data"
    }
   ],
   "source": [
    "data[data['letter_code'] == \"GBP\"]['rate'].plot(kind='box')"
   ]
  },
  {
   "cell_type": "code",
   "execution_count": 30,
   "id": "23fcd22b",
   "metadata": {},
   "outputs": [],
   "source": [
    "IQR = np.quantile(data[data['letter_code'] == \"GBP\"]['rate'],0.75) - np.quantile(data[data['letter_code'] == \"GBP\"]['rate'],0.25)"
   ]
  },
  {
   "cell_type": "code",
   "execution_count": 31,
   "id": "436d8162",
   "metadata": {},
   "outputs": [
    {
     "data": {
      "text/plain": [
       "42.528225000000006"
      ]
     },
     "execution_count": 31,
     "metadata": {},
     "output_type": "execute_result"
    }
   ],
   "source": [
    "IQR"
   ]
  },
  {
   "cell_type": "code",
   "execution_count": 33,
   "id": "ff2534d5",
   "metadata": {},
   "outputs": [
    {
     "data": {
      "text/plain": [
       "(87.830725, 45.302499999999995)"
      ]
     },
     "execution_count": 33,
     "metadata": {},
     "output_type": "execute_result"
    }
   ],
   "source": [
    "np.quantile(data[data['letter_code'] == \"GBP\"]['rate'],0.75),np.quantile(data[data['letter_code'] == \"GBP\"]['rate'],0.25)"
   ]
  },
  {
   "cell_type": "code",
   "execution_count": 35,
   "id": "035a2669",
   "metadata": {},
   "outputs": [
    {
     "data": {
      "text/plain": [
       "(0.9606, 10060.35)"
      ]
     },
     "execution_count": 35,
     "metadata": {},
     "output_type": "execute_result"
    }
   ],
   "source": [
    "data[data['letter_code'] == \"GBP\"]['rate'].min(),data[data['letter_code'] == \"GBP\"]['rate'].max()"
   ]
  },
  {
   "cell_type": "code",
   "execution_count": 36,
   "id": "ca5e6b03",
   "metadata": {},
   "outputs": [
    {
     "data": {
      "text/plain": [
       "<pandas.plotting._core.PlotAccessor object at 0x00000264F79CA390>"
      ]
     },
     "execution_count": 36,
     "metadata": {},
     "output_type": "execute_result"
    }
   ],
   "source": [
    "data[data['letter_code'] == \"GBP\"]['rate'].plot"
   ]
  },
  {
   "cell_type": "code",
   "execution_count": 37,
   "id": "8d246d60",
   "metadata": {},
   "outputs": [
    {
     "data": {
      "text/plain": [
       "<AxesSubplot: >"
      ]
     },
     "execution_count": 37,
     "metadata": {},
     "output_type": "execute_result"
    },
    {
     "data": {
      "image/png": "[encoded data removed]",
      "text/plain": [
       "<Figure size 640x480 with 1 Axes>"
      ]
     },
     "metadata": {},
     "output_type": "display_data"
    }
   ],
   "source": [
    "data[data['letter_code'] == \"GBP\"]['rate'].hist()"
   ]
  },
  {
   "cell_type": "code",
   "execution_count": 39,
   "id": "3ebac313",
   "metadata": {
    "scrolled": true
   },
   "outputs": [
    {
     "data": {
      "text/plain": [
       "11.2000    130\n",
       "21.3600     53\n",
       "2.5200      38\n",
       "21.3800     33\n",
       "2.5100      28\n",
       "          ... \n",
       "52.2627      1\n",
       "52.3267      1\n",
       "52.6391      1\n",
       "52.7828      1\n",
       "51.3558      1\n",
       "Name: rate, Length: 7051, dtype: int64"
      ]
     },
     "execution_count": 39,
     "metadata": {},
     "output_type": "execute_result"
    }
   ],
   "source": [
    "data[data['letter_code'] == \"GBP\"]['rate'].value_counts()"
   ]
  },
  {
   "cell_type": "markdown",
   "id": "602c34b6",
   "metadata": {},
   "source": [
    "## Анализ качественной информации"
   ]
  },
  {
   "cell_type": "markdown",
   "id": "24a5d000",
   "metadata": {},
   "source": [
    "Пример отображения количества позиций с разными видами валют по их банковскому коду"
   ]
  },
  {
   "cell_type": "code",
   "execution_count": 54,
   "id": "aabad794",
   "metadata": {},
   "outputs": [
    {
     "data": {
      "text/plain": [
       "<AxesSubplot: xlabel='count', ylabel='letter_code'>"
      ]
     },
     "execution_count": 54,
     "metadata": {},
     "output_type": "execute_result"
    },
    {
     "data": {
      "image/png": "[encoded data removed]",
      "text/plain": [
       "<Figure size 640x480 with 1 Axes>"
      ]
     },
     "metadata": {},
     "output_type": "display_data"
    }
   ],
   "source": [
    "sns.countplot(y = 'letter_code', data = data, orient = \"h\")"
   ]
  },
  {
   "cell_type": "markdown",
   "id": "b8a6e719",
   "metadata": {},
   "source": [
    "## Вывод"
   ]
  },
  {
   "cell_type": "markdown",
   "id": "59757bed",
   "metadata": {},
   "source": [
    "Данный датасет, предоставленный Центральным Банком Российской Федерации, содержит в себе информацию об изменении стоимости различных мировых валют по отношению к рублю в течение периода с 1924 года по 2021 год. Данные, содержащиеся в датасете, могут быть полезны для прогностической деятельности и вычисления будущих изменений курса той или иной валюты. Единственный минус датасета — его ограниченность 2021 годом, т.е. не учитываются события 2022 года, повлекшие за собой изменения положения рубля по отношению к мировым валютам."
   ]
  },
  {
   "cell_type": "code",
   "execution_count": null,
   "id": "2f08df0b",
   "metadata": {},
   "outputs": [],
   "source": []
  }
 ],
 "metadata": {
  "kernelspec": {
   "display_name": "Python 3 (ipykernel)",
   "language": "python",
   "name": "python3"
  },
  "language_info": {
   "codemirror_mode": {
    "name": "ipython",
    "version": 3
   },
   "file_extension": ".py",
   "mimetype": "text/x-python",
   "name": "python",
   "nbconvert_exporter": "python",
   "pygments_lexer": "ipython3",
   "version": "3.11.0"
  }
 },
 "nbformat": 4,
 "nbformat_minor": 5
}
